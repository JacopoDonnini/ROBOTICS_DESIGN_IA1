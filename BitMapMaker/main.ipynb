{
 "cells": [
  {
   "metadata": {
    "ExecuteTime": {
     "end_time": "2025-05-26T18:38:02.553236Z",
     "start_time": "2025-05-26T18:38:02.276179Z"
    }
   },
   "cell_type": "code",
   "source": [
    "from PIL import Image, ImageDraw, ImageFont\n",
    "import numpy as np\n",
    "import os\n",
    "\n",
    "size = 96\n",
    "font_size = 96\n",
    "font = ImageFont.truetype(\"arial.ttf\", font_size)\n",
    "output_dir = \"digit_headers\"\n",
    "os.makedirs(output_dir, exist_ok=True)\n",
    "\n",
    "def bmp_to_custom_header(img, digit):\n",
    "    # ensure 1-bit image\n",
    "    img = img.convert('1')\n",
    "    data = np.array(img)         # shape (height, width), 0=black, 255=white\n",
    "    height, width = data.shape\n",
    "\n",
    "    var_name     = f\"digit_{digit}\"\n",
    "    guard        = var_name.upper() + \"_H_\"\n",
    "    \n",
    "    # bytes per row (8 pixels per byte)\n",
    "    row_bytes = (width + 7) // 8\n",
    "\n",
    "    bytes_list = []\n",
    "    for y in range(height):\n",
    "        for xb in range(0, width, 8):\n",
    "            byte = 0\n",
    "            for bit in range(8):\n",
    "                x = xb + bit\n",
    "                if x < width and data[y, x] == 0:\n",
    "                    # MSB = leftmost pixel\n",
    "                    byte |= 1 << (7 - bit)\n",
    "            bytes_list.append(byte)\n",
    "\n",
    "    # format into hex strings, 12 per line\n",
    "    hex_strs = [f\"0x{b:02X}\" for b in bytes_list]\n",
    "    lines = [\", \".join(hex_strs[i:i+12]) for i in range(0, len(hex_strs), 12)]\n",
    "\n",
    "    header = []\n",
    "    header.append(f\"#ifndef _{guard}\")\n",
    "    header.append(f\"#define _{guard}\\n\")\n",
    "    header.append(f\"#define {var_name}_width  {width}\")\n",
    "    header.append(f\"#define {var_name}_height {height}\\n\")\n",
    "    header.append(f\"static const uint8_t PROGMEM {var_name}_data[] = {{\")\n",
    "    for line in lines:\n",
    "        header.append(\"  \" + line + \",\")\n",
    "    header[-1] = header[-1].rstrip(',')  # remove trailing comma on last line\n",
    "    header.append(\"};\\n\")\n",
    "    header.append(f\"#endif // _{guard}\")\n",
    "\n",
    "    return \"\\n\".join(header)\n",
    "\n",
    "# Generate all digits\n",
    "for i in range(10):\n",
    "    img = Image.new('1', (size, size), 1)\n",
    "    draw = ImageDraw.Draw(img)\n",
    "    text = str(i)\n",
    "    bbox = draw.textbbox((0, 0), text, font=font)\n",
    "    w, h = bbox[2] - bbox[0], bbox[3] - bbox[1]\n",
    "    x = (size - w) // 2 - bbox[0]\n",
    "    y = (size - h) // 2 - bbox[1]\n",
    "    draw.text((x, y), text, font=font, fill=0)\n",
    "\n",
    "    header_content = bmp_to_custom_header(img, i)\n",
    "    with open(os.path.join(output_dir, f\"digit_{i}.h\"), \"w\") as f:\n",
    "        f.write(header_content)\n",
    "    print(f\"Written digit_{i}.h\")\n"
   ],
   "id": "9c724fe1c70e5b3e",
   "outputs": [
    {
     "name": "stdout",
     "output_type": "stream",
     "text": [
      "Written digit_0.h\n",
      "Written digit_1.h\n",
      "Written digit_2.h\n",
      "Written digit_3.h\n",
      "Written digit_4.h\n",
      "Written digit_5.h\n",
      "Written digit_6.h\n",
      "Written digit_7.h\n",
      "Written digit_8.h\n",
      "Written digit_9.h\n"
     ]
    }
   ],
   "execution_count": 4
  },
  {
   "metadata": {},
   "cell_type": "code",
   "outputs": [],
   "execution_count": null,
   "source": "",
   "id": "8788455eab79e1e6"
  }
 ],
 "metadata": {
  "kernelspec": {
   "display_name": "Python 3",
   "language": "python",
   "name": "python3"
  },
  "language_info": {
   "codemirror_mode": {
    "name": "ipython",
    "version": 2
   },
   "file_extension": ".py",
   "mimetype": "text/x-python",
   "name": "python",
   "nbconvert_exporter": "python",
   "pygments_lexer": "ipython2",
   "version": "2.7.6"
  }
 },
 "nbformat": 4,
 "nbformat_minor": 5
}
